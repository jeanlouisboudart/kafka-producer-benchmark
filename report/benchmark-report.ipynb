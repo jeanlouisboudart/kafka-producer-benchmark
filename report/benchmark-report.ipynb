{
 "cells": [
  {
   "cell_type": "code",
   "execution_count": null,
   "id": "75bbf82e-54ac-4da3-811b-be3f6901caa6",
   "metadata": {},
   "outputs": [],
   "source": [
    "import pandas as pd\n",
    "import plotly.express as px\n",
    "import plotly.io as pio\n",
    "\n",
    "#necessary if we want to export report as markdown files\n",
    "pio.renderers.default = \"png\"\n",
    "language_colors={\"dotnet\": \"#178600\", \"golang\": \"#00ADD8\", \"java\": \"#b07219\", \"python\": \"#3572A5\", \"rust\": \"#dea584\"}"
   ]
  },
  {
   "cell_type": "markdown",
   "id": "111901a7-60a6-4d61-aaf2-9700d01f5ad0",
   "metadata": {},
   "source": [
    "# Scenario configuration"
   ]
  },
  {
   "cell_type": "code",
   "execution_count": null,
   "id": "7de412b7-73d3-4ee8-a37a-af99c08ea736",
   "metadata": {},
   "outputs": [],
   "source": [
    "import os\n",
    "with open('scenario.env') as f:\n",
    "    contents = f.read()\n",
    "    print(contents)"
   ]
  },
  {
   "cell_type": "markdown",
   "id": "008bc7ea-adbd-4e4e-959d-59e5bc898af4",
   "metadata": {},
   "source": [
    "# Metrics"
   ]
  },
  {
   "cell_type": "code",
   "execution_count": null,
   "id": "31afa99c-b613-4e50-b490-978c1ffebd78",
   "metadata": {},
   "outputs": [],
   "source": [
    "df = pd.read_csv('metrics.csv')\n",
    "print(df)"
   ]
  },
  {
   "cell_type": "markdown",
   "id": "a975b9df-3c45-467d-8683-41fc089f9a3b",
   "metadata": {},
   "source": [
    "## Sent rate"
   ]
  },
  {
   "cell_type": "code",
   "execution_count": null,
   "id": "a5226db0-8faa-429b-80dd-b376ae0ae40e",
   "metadata": {},
   "outputs": [],
   "source": [
    "fig = px.line(df, x = 'Index',  y = 'Sent rate', color='ProducerType', color_discrete_map=language_colors)\n",
    "fig.show()"
   ]
  },
  {
   "cell_type": "markdown",
   "id": "54ebb65e-8709-45ae-a3c1-98e0f390dfa0",
   "metadata": {},
   "source": [
    "## Duration spent in queue"
   ]
  },
  {
   "cell_type": "code",
   "execution_count": null,
   "id": "911a9a96-3362-4339-8af7-47bd7e5597bb",
   "metadata": {},
   "outputs": [],
   "source": [
    "fig = px.line(df, x = 'Index',  y = 'duration spent in queue', color='ProducerType', color_discrete_map=language_colors)\n",
    "fig.show()"
   ]
  },
  {
   "cell_type": "markdown",
   "id": "8e451797-813f-453e-99c7-997b7ac303d3",
   "metadata": {},
   "source": [
    "## Batch size"
   ]
  },
  {
   "cell_type": "code",
   "execution_count": null,
   "id": "f15699cd-8abe-4b9b-a08c-f5e890e31de1",
   "metadata": {},
   "outputs": [],
   "source": [
    "fig = px.line(df, x = 'Index',  y = 'batch size', color='ProducerType', color_discrete_map=language_colors)\n",
    "fig.show()"
   ]
  },
  {
   "cell_type": "markdown",
   "id": "8921fcf5-07d1-4b89-b7df-795b12d11b78",
   "metadata": {},
   "source": [
    "## Request Rate"
   ]
  },
  {
   "cell_type": "code",
   "execution_count": null,
   "id": "ec816012-db63-4093-b167-8c3a5bcdd980",
   "metadata": {},
   "outputs": [],
   "source": [
    "fig = px.line(df, x = 'Index',  y = 'request rate', color='ProducerType', color_discrete_map=language_colors)\n",
    "fig.show()"
   ]
  },
  {
   "cell_type": "markdown",
   "id": "9f4afe9c-4402-4169-ae67-9a35b1334cd1",
   "metadata": {},
   "source": [
    "## Request latency Average"
   ]
  },
  {
   "cell_type": "code",
   "execution_count": null,
   "id": "74adc211-5a99-4715-91d9-16d7f73d4699",
   "metadata": {},
   "outputs": [],
   "source": [
    "fig = px.line(df, x = 'Index',  y = 'request latency avg', color='ProducerType', color_discrete_map=language_colors)\n",
    "fig.show()"
   ]
  },
  {
   "cell_type": "markdown",
   "id": "417706ba-3db7-4841-9866-6478809c663a",
   "metadata": {},
   "source": [
    "# Overall stats"
   ]
  },
  {
   "cell_type": "code",
   "execution_count": null,
   "id": "aff02a4a-59f8-459b-b55c-39d2495090f6",
   "metadata": {},
   "outputs": [],
   "source": [
    "df_final_results = pd.read_csv('final-results.csv')\n",
    "print(df_final_results)"
   ]
  },
  {
   "cell_type": "markdown",
   "id": "5e18f636-692f-4d30-b89b-75e38375861c",
   "metadata": {},
   "source": [
    "## Number of messages sent in total"
   ]
  },
  {
   "cell_type": "code",
   "execution_count": null,
   "id": "72aa90a9-9748-4a67-a750-8dbae1fc657d",
   "metadata": {},
   "outputs": [],
   "source": [
    "fig = px.bar(df_final_results, x = 'ProducerType', y = 'nb_msgs', color='ProducerType', color_discrete_map=language_colors)\n",
    "fig.show()"
   ]
  },
  {
   "cell_type": "markdown",
   "id": "5f0e3ac3-fc25-4bf8-bc11-3600afc3fdf6",
   "metadata": {},
   "source": [
    "## Number of request sent in total"
   ]
  },
  {
   "cell_type": "code",
   "execution_count": null,
   "id": "d0d28fd1-9ca9-435c-9acb-0ea18f43bae5",
   "metadata": {},
   "outputs": [],
   "source": [
    "fig = px.bar(df_final_results, x = 'ProducerType', y = 'nb_requests', color='ProducerType', color_discrete_map=language_colors)\n",
    "fig.show()"
   ]
  },
  {
   "cell_type": "markdown",
   "id": "f7b44320-5c17-41e7-bca2-86845a8d0feb",
   "metadata": {},
   "source": [
    "## Duration in seconds"
   ]
  },
  {
   "cell_type": "code",
   "execution_count": null,
   "id": "fdd28a16-fe72-4af8-818d-94d31c5ecc06",
   "metadata": {},
   "outputs": [],
   "source": [
    "fig = px.bar(df_final_results, x = 'ProducerType', y = 'duration', color='ProducerType', color_discrete_map=language_colors)\n",
    "fig.show()"
   ]
  }
 ],
 "metadata": {
  "kernelspec": {
   "display_name": "Python 3 (ipykernel)",
   "language": "python",
   "name": "python3"
  },
  "language_info": {
   "codemirror_mode": {
    "name": "ipython",
    "version": 3
   },
   "file_extension": ".py",
   "mimetype": "text/x-python",
   "name": "python",
   "nbconvert_exporter": "python",
   "pygments_lexer": "ipython3",
   "version": "3.10.5"
  }
 },
 "nbformat": 4,
 "nbformat_minor": 5
}
